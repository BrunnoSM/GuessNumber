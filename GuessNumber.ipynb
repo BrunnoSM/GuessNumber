{
  "nbformat": 4,
  "nbformat_minor": 0,
  "metadata": {
    "colab": {
      "provenance": []
    },
    "kernelspec": {
      "name": "python3",
      "display_name": "Python 3"
    },
    "language_info": {
      "name": "python"
    }
  },
  "cells": [
    {
      "cell_type": "code",
      "source": [
        "import random"
      ],
      "metadata": {
        "id": "6QXc58Ow5lqO"
      },
      "execution_count": 1,
      "outputs": []
    },
    {
      "cell_type": "code",
      "execution_count": null,
      "metadata": {
        "id": "LgL2-dez5gIV"
      },
      "outputs": [],
      "source": [
        "from IPython.display import clear_output\n",
        "\n",
        "def maquina_adivinha_numero():\n",
        "    limite_inferior = 1\n",
        "    limite_superior = 100\n",
        "\n",
        "    print(\"Pense em um número entre 1 e 100.\")\n",
        "\n",
        "    while True:\n",
        "        # Gere 8 números aleatórios inteiros\n",
        "        numeros_aleatorios = [random.randint(limite_inferior, limite_superior) for _ in range(8)]\n",
        "        print(f\"A máquina escolheu os seguintes números: {numeros_aleatorios}\")\n",
        "\n",
        "        input(\"Pressione Enter quando estiver pronto para começar...\")\n",
        "\n",
        "        for i, numero in enumerate(numeros_aleatorios):\n",
        "            clear_output(wait=True)  # Limpa a saída atual\n",
        "            tentativas = 0  # Zera as tentativas para o próximo número\n",
        "            acertou = False  # Variável de controle para sair do loop interno\n",
        "\n",
        "            # Reinicia os limites para adivinhar o próximo número\n",
        "            limite_inferior = 1\n",
        "            limite_superior = 100\n",
        "\n",
        "            while not acertou:\n",
        "                # Adicione uma pequena taxa de erro\n",
        "                erro = random.randint(-10, 10)\n",
        "                tentativa = numero + erro\n",
        "\n",
        "                # Certifique-se de que a tentativa esteja dentro dos limites\n",
        "                tentativa = max(limite_inferior, min(limite_superior, tentativa))\n",
        "\n",
        "                clear_output(wait=True)\n",
        "                print(f\"Números gerados pela máquina: {numeros_aleatorios}\")\n",
        "                print(f\"Número {i + 1} a ser adivinhado: {numero}\")\n",
        "\n",
        "                print(f\"Tentativa {tentativas + 1}:\")\n",
        "                print(f\"A máquina adivinha: {tentativa}\")\n",
        "                tentativas += 1\n",
        "\n",
        "                dica = input(\"Dê uma dica (maior/menor/igual): \").lower()\n",
        "\n",
        "                if dica == \"maior\":\n",
        "                    limite_inferior = tentativa + 1\n",
        "                elif dica == \"menor\":\n",
        "                    limite_superior = tentativa - 1\n",
        "                elif dica == \"igual\":\n",
        "                    print(f\"A máquina acertou em {tentativas} tentativas!\")\n",
        "                    if i == 7:  # Verifica se é a última iteração\n",
        "                        print(\"Jogo encerrado.\")\n",
        "                        return  # Encerra o programa\n",
        "                    else:\n",
        "                        input(\"Pressione qualquer tecla para continuar...\")\n",
        "                        acertou = True  # Define acertou como True para sair do loop interno\n",
        "\n",
        "                else:\n",
        "                    print(\"Dica inválida. Use 'maior', 'menor' ou 'igual'.\")\n",
        "                    input(\"Pressione qualquer tecla para continuar...\")\n",
        "\n",
        "if __name__ == \"__main__\":\n",
        "    maquina_adivinha_numero()"
      ]
    }
  ]
}